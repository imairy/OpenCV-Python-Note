{
 "cells": [
  {
   "cell_type": "markdown",
   "metadata": {
    "collapsed": true,
    "pycharm": {
     "name": "#%% md\n"
    }
   },
   "source": [
    "# 视频文件的读写\n",
    "\n",
    "在opencv中视频相关API有两个：`VideoCapture`视频读取，打开摄像头；`VideoWriter`写视频、保存视频。\n",
    "- `VideoCapture`：支持上百种摄像头，在读取视频流编码时，需要系统有相应的编解码库的支持；由于VideoCapture只支持视频的编码，不支持音频的，所以读取的视频没有声音\n",
    "- `VideoWriter`"
   ]
  },
  {
   "cell_type": "code",
   "execution_count": 2,
   "outputs": [
    {
     "name": "stdout",
     "output_type": "stream",
     "text": [
      "176.0\n",
      "320.0\n",
      "374.0\n",
      "30.0\n"
     ]
    }
   ],
   "source": [
    "import cv2 as cv\n",
    "import numpy as np\n",
    "\n",
    "capture = cv.VideoCapture('images/video.avi')\n",
    "# 获取导读\n",
    "height = capture.get(cv.CAP_PROP_FRAME_HEIGHT)\n",
    "print(height)\n",
    "# 宽度\n",
    "width = capture.get(cv.CAP_PROP_FRAME_WIDTH)\n",
    "print(width)\n",
    "# 帧数\n",
    "count = capture.get(cv.CAP_PROP_FRAME_COUNT)\n",
    "print(count)\n",
    "#帧率\n",
    "fps = capture.get(cv.CAP_PROP_FPS)\n",
    "print(fps)"
   ],
   "metadata": {
    "collapsed": false,
    "pycharm": {
     "name": "#%%\n"
    }
   }
  },
  {
   "cell_type": "markdown",
   "source": [
    "VideoWriter\n",
    "- 保存的视频路径\n",
    "- 编解码格式：参见[FOURCC](http://www.fourcc.org/codecs.php)\n",
    "    - CV_FOURCC('P','I','M','1') = MPEG-1 codec\n",
    "    - CV_FOURCC('M','J','P','G') = motion-jpeg codec\n",
    "    - CV_FOURCC('M', 'P', '4', '2') = MPEG-4.2 codec\n",
    "    - CV_FOURCC('D', 'I', 'V', '3') = MPEG-4.3 codec\n",
    "    - CV_FOURCC('D', 'I', 'V', 'X') = MPEG-4 codec\n",
    "    - CV_FOURCC('U', '2', '6', '3') = H263 codec\n",
    "    - CV_FOURCC('I', '2', '6', '3') = H263I codec\n",
    "    - CV_FOURCC('F', 'L', 'V', '1') = FLV1 codec\n",
    "- 帧率\n",
    "- size，包括宽高\n",
    "- （？）"
   ],
   "metadata": {
    "collapsed": false,
    "pycharm": {
     "name": "#%% md\n"
    }
   }
  },
  {
   "cell_type": "code",
   "execution_count": 3,
   "outputs": [],
   "source": [
    "out = cv.VideoWriter('images/video_witer.mp4', cv.VideoWriter_fourcc('D','I','V','X'),  fps, (np.int(width), np.int(height)), True )\n",
    "\n",
    "while True:\n",
    "    ret, frame = capture.read()\n",
    "    if ret is True:\n",
    "        out.write(frame)\n",
    "    else:\n",
    "        break\n",
    "capture.release()\n",
    "out.release()\n",
    "\n",
    "\n"
   ],
   "metadata": {
    "collapsed": false,
    "pycharm": {
     "name": "#%%\n"
    }
   }
  }
 ],
 "metadata": {
  "kernelspec": {
   "display_name": "Python 3",
   "language": "python",
   "name": "python3"
  },
  "language_info": {
   "codemirror_mode": {
    "name": "ipython",
    "version": 2
   },
   "file_extension": ".py",
   "mimetype": "text/x-python",
   "name": "python",
   "nbconvert_exporter": "python",
   "pygments_lexer": "ipython2",
   "version": "2.7.6"
  }
 },
 "nbformat": 4,
 "nbformat_minor": 0
}